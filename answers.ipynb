{
 "cells": [
  {
   "cell_type": "code",
   "execution_count": 36,
   "metadata": {
    "collapsed": true
   },
   "outputs": [],
   "source": [
    "%matplotlib inline\n",
    "import numpy as np\n",
    "import matplotlib.pyplot as plt\n",
    "import scipy.optimize as opt"
   ]
  },
  {
   "cell_type": "markdown",
   "metadata": {},
   "source": [
    "## Bisection ## "
   ]
  },
  {
   "cell_type": "code",
   "execution_count": 131,
   "metadata": {
    "collapsed": false
   },
   "outputs": [],
   "source": [
    "def break_fnc1(x):\n",
    "    return np.sin(x)*np.cos(x)\n",
    "def break_fnc2(x):\n",
    "    return (np.abs(x))**(1./4.)"
   ]
  },
  {
   "cell_type": "code",
   "execution_count": 103,
   "metadata": {
    "collapsed": true
   },
   "outputs": [],
   "source": [
    "def sign_check(sign_a,sign_b):\n",
    "    return sign_a*sign_b > 0\n",
    "\n",
    "def bisection(start,end,function):\n",
    "\n",
    "    x_min = start\n",
    "    x_max = end\n",
    "    \n",
    "    \n",
    "    mid = (x_min+x_max)/2.\n",
    "    x_vals = [mid]\n",
    "    x_vals_left = []\n",
    "    x_vals_right = []\n",
    "    l = 0\n",
    "    r = 0\n",
    "    i=0\n",
    "\n",
    "    while np.abs(function(mid))> 0.01 and i<100:\n",
    "              \n",
    "        \n",
    "        sign_test_a = function(mid)*function(x_min)\n",
    "        sign_test_b = function(mid)*function(x_max)\n",
    "        \n",
    "        xlist = np.linspace(x_min,x_max)\n",
    "        fnc_list = function(xlist)\n",
    "        j=0\n",
    "        while sign_check(function(x_min),function(x_max))==True and j<1000:\n",
    "            \n",
    "            if np.min(fnc_list):\n",
    "                x_max_left = np.min(fnc_list)\n",
    "                x_min += 0.1\n",
    "                l +=1\n",
    "                \n",
    "            elif np.max(fnc_list):\n",
    "                x_max_left  = np.max(fnc_list)\n",
    "                x_min += 0.1\n",
    "                l+=1\n",
    "            j+=1\n",
    "\n",
    "        if sign_test_a<0:\n",
    "            x_max = mid\n",
    "            mid = (x_min+x_max)/2\n",
    "            \n",
    "        elif sign_test_b<0:           \n",
    "            x_min = mid\n",
    "            mid = (x_min+x_max)/2\n",
    "        \n",
    "        if l>0:\n",
    "            x_vals_left.append(mid)\n",
    "            \n",
    "        x_vals.append(mid)\n",
    "        i+=1\n",
    "    if len(x_vals_left)>0:\n",
    "        return x_vals_left[-1]\n",
    "    else:\n",
    "        return x_vals[-1]\n"
   ]
  },
  {
   "cell_type": "code",
   "execution_count": 111,
   "metadata": {
    "collapsed": false
   },
   "outputs": [
    {
     "data": {
      "text/plain": [
       "18.84765625"
      ]
     },
     "execution_count": 111,
     "metadata": {},
     "output_type": "execute_result"
    }
   ],
   "source": [
    "bisection(15,20,break_fnc1)"
   ]
  },
  {
   "cell_type": "code",
   "execution_count": 112,
   "metadata": {
    "collapsed": false
   },
   "outputs": [
    {
     "data": {
      "text/plain": [
       "18.849555921538762"
      ]
     },
     "execution_count": 112,
     "metadata": {},
     "output_type": "execute_result"
    }
   ],
   "source": [
    "opt.brentq(break_fnc1,15,20)"
   ]
  },
  {
   "cell_type": "markdown",
   "metadata": {},
   "source": [
    "## Newton ##"
   ]
  },
  {
   "cell_type": "code",
   "execution_count": 52,
   "metadata": {
    "collapsed": false
   },
   "outputs": [],
   "source": [
    "def df_dx(xi, function,h):\n",
    "    derv = ((function(xi+h) - function(xi-h))/(2.*h))\n",
    "    return derv\n",
    "\n",
    "def tolerance(function,xi):\n",
    "    delta = np.abs(0.-function(xi))\n",
    "    return delta\n",
    "\n",
    "def newt(guess_x,function,error):\n",
    "    x = []\n",
    "    fx = []\n",
    "    dfdx = []    \n",
    "    delta_x = tolerance(function,guess_x)\n",
    "    i=0\n",
    "    while delta_x>error and i<100:\n",
    "        guess_x = guess_x-(function(guess_x)/df_dx(guess_x,function,delta_x))\n",
    "        delta_x = tolerance(function,guess_x)\n",
    "        x.append(guess_x)\n",
    "        fx.append(function(guess_x))\n",
    "        dfdx.append(df_dx(guess_x,function,delta_x))\n",
    "        i+=1\n",
    "    if i<99:\n",
    "        return guess_x,x[-1],fx[-1],dfdx[-1]\n",
    "    elif i==99:\n",
    "        return 'does not converge'"
   ]
  },
  {
   "cell_type": "code",
   "execution_count": 79,
   "metadata": {
    "collapsed": false
   },
   "outputs": [
    {
     "data": {
      "text/plain": [
       "(12.566370606964011,\n",
       " 12.566370606964011,\n",
       " -7.3951623061069386e-09,\n",
       " 0.99999993375957141)"
      ]
     },
     "execution_count": 79,
     "metadata": {},
     "output_type": "execute_result"
    }
   ],
   "source": [
    "newt(10,break_fnc1,0.001)"
   ]
  },
  {
   "cell_type": "code",
   "execution_count": 106,
   "metadata": {
    "collapsed": false
   },
   "outputs": [
    {
     "data": {
      "text/plain": [
       "14.137166941153225"
      ]
     },
     "execution_count": 106,
     "metadata": {},
     "output_type": "execute_result"
    }
   ],
   "source": [
    "opt.bisect(break_fnc1,10,40)"
   ]
  },
  {
   "cell_type": "code",
   "execution_count": 132,
   "metadata": {
    "collapsed": false,
    "scrolled": true
   },
   "outputs": [
    {
     "ename": "RuntimeError",
     "evalue": "Failed to converge after 50 iterations, value is 2.35692879996e+31",
     "output_type": "error",
     "traceback": [
      "\u001b[0;31m---------------------------------------------------------------------------\u001b[0m",
      "\u001b[0;31mRuntimeError\u001b[0m                              Traceback (most recent call last)",
      "\u001b[0;32m<ipython-input-132-3cb6656c1e96>\u001b[0m in \u001b[0;36m<module>\u001b[0;34m()\u001b[0m\n\u001b[0;32m----> 1\u001b[0;31m \u001b[0mopt\u001b[0m\u001b[0;34m.\u001b[0m\u001b[0mnewton\u001b[0m\u001b[0;34m(\u001b[0m\u001b[0mbreak_fnc2\u001b[0m\u001b[0;34m,\u001b[0m\u001b[0;36m0.01\u001b[0m\u001b[0;34m)\u001b[0m\u001b[0;34m\u001b[0m\u001b[0m\n\u001b[0m",
      "\u001b[0;32m/Users/DanaKoeppe/anaconda/lib/python2.7/site-packages/scipy/optimize/zeros.pyc\u001b[0m in \u001b[0;36mnewton\u001b[0;34m(func, x0, fprime, args, tol, maxiter, fprime2)\u001b[0m\n\u001b[1;32m    182\u001b[0m             \u001b[0mq1\u001b[0m \u001b[0;34m=\u001b[0m \u001b[0mfunc\u001b[0m\u001b[0;34m(\u001b[0m\u001b[0;34m*\u001b[0m\u001b[0;34m(\u001b[0m\u001b[0;34m(\u001b[0m\u001b[0mp1\u001b[0m\u001b[0;34m,\u001b[0m\u001b[0;34m)\u001b[0m \u001b[0;34m+\u001b[0m \u001b[0margs\u001b[0m\u001b[0;34m)\u001b[0m\u001b[0;34m)\u001b[0m\u001b[0;34m\u001b[0m\u001b[0m\n\u001b[1;32m    183\u001b[0m     \u001b[0mmsg\u001b[0m \u001b[0;34m=\u001b[0m \u001b[0;34m\"Failed to converge after %d iterations, value is %s\"\u001b[0m \u001b[0;34m%\u001b[0m \u001b[0;34m(\u001b[0m\u001b[0mmaxiter\u001b[0m\u001b[0;34m,\u001b[0m \u001b[0mp\u001b[0m\u001b[0;34m)\u001b[0m\u001b[0;34m\u001b[0m\u001b[0m\n\u001b[0;32m--> 184\u001b[0;31m     \u001b[0;32mraise\u001b[0m \u001b[0mRuntimeError\u001b[0m\u001b[0;34m(\u001b[0m\u001b[0mmsg\u001b[0m\u001b[0;34m)\u001b[0m\u001b[0;34m\u001b[0m\u001b[0m\n\u001b[0m\u001b[1;32m    185\u001b[0m \u001b[0;34m\u001b[0m\u001b[0m\n\u001b[1;32m    186\u001b[0m \u001b[0;34m\u001b[0m\u001b[0m\n",
      "\u001b[0;31mRuntimeError\u001b[0m: Failed to converge after 50 iterations, value is 2.35692879996e+31"
     ]
    }
   ],
   "source": [
    "opt.newton(break_fnc2,0.01)"
   ]
  },
  {
   "cell_type": "code",
   "execution_count": 133,
   "metadata": {
    "collapsed": false
   },
   "outputs": [
    {
     "data": {
      "text/plain": [
       "0.0"
      ]
     },
     "execution_count": 133,
     "metadata": {},
     "output_type": "execute_result"
    }
   ],
   "source": [
    "opt.brentq(break_fnc2,0,40)"
   ]
  },
  {
   "cell_type": "code",
   "execution_count": 134,
   "metadata": {
    "collapsed": false
   },
   "outputs": [
    {
     "data": {
      "text/plain": [
       "0.0"
      ]
     },
     "execution_count": 134,
     "metadata": {},
     "output_type": "execute_result"
    }
   ],
   "source": [
    "opt.bisect(break_fnc2,0,40)"
   ]
  },
  {
   "cell_type": "markdown",
   "metadata": {},
   "source": [
    "My function $f(x) = $sin$(x)$cos$(x)$ failed with the scipy newton root finder, but was able to converge within 100 iterations of my newton root finder.  However, this function works with the bisection method, but only if one root is in the given interval.\n",
    "A function with $|x|^{a/b}$, where a$<$b, the newton method always fails, but only fails with brentq and bisection when the interval given does not pass x=0. "
   ]
  },
  {
   "cell_type": "markdown",
   "metadata": {},
   "source": [
    " In general, the brent method seems to work on oscillating functions if you give a decent interval to work over, but they do not work for newton.  It will work with bisection, but this method will only work to find one root.  Root functions that only touch, but don't pass through y=0 can be found by bisection and brentq, but only if the interval contains the root."
   ]
  },
  {
   "cell_type": "code",
   "execution_count": null,
   "metadata": {
    "collapsed": true
   },
   "outputs": [],
   "source": []
  }
 ],
 "metadata": {
  "anaconda-cloud": {},
  "kernelspec": {
   "display_name": "Python [Root]",
   "language": "python",
   "name": "Python [Root]"
  },
  "language_info": {
   "codemirror_mode": {
    "name": "ipython",
    "version": 2
   },
   "file_extension": ".py",
   "mimetype": "text/x-python",
   "name": "python",
   "nbconvert_exporter": "python",
   "pygments_lexer": "ipython2",
   "version": "2.7.12"
  }
 },
 "nbformat": 4,
 "nbformat_minor": 0
}
